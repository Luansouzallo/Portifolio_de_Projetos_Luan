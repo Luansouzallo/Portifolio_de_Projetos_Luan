{
 "cells": [
  {
   "cell_type": "code",
   "execution_count": 1,
   "id": "08041062",
   "metadata": {},
   "outputs": [],
   "source": [
    "# Carregando biblioteca e pacotes\n",
    "import pandas as pd\n",
    "import matplotlib.pyplot as plt\n",
    "import seaborn as sns\n",
    "\n",
    "import matplotlib.pyplot as plt\n",
    "import seaborn as sns"
   ]
  },
  {
   "cell_type": "code",
   "execution_count": 4,
   "id": "fe8b57d5",
   "metadata": {},
   "outputs": [
    {
     "data": {
      "text/html": [
       "<div>\n",
       "<style scoped>\n",
       "    .dataframe tbody tr th:only-of-type {\n",
       "        vertical-align: middle;\n",
       "    }\n",
       "\n",
       "    .dataframe tbody tr th {\n",
       "        vertical-align: top;\n",
       "    }\n",
       "\n",
       "    .dataframe thead th {\n",
       "        text-align: right;\n",
       "    }\n",
       "</style>\n",
       "<table border=\"1\" class=\"dataframe\">\n",
       "  <thead>\n",
       "    <tr style=\"text-align: right;\">\n",
       "      <th></th>\n",
       "      <th>InvoiceNo</th>\n",
       "      <th>StockCode</th>\n",
       "      <th>Description</th>\n",
       "      <th>Quantity</th>\n",
       "      <th>InvoiceDate</th>\n",
       "      <th>UnitPrice</th>\n",
       "      <th>CustomerID</th>\n",
       "      <th>Country</th>\n",
       "    </tr>\n",
       "  </thead>\n",
       "  <tbody>\n",
       "    <tr>\n",
       "      <th>0</th>\n",
       "      <td>536365</td>\n",
       "      <td>85123A</td>\n",
       "      <td>WHITE HANGING HEART T-LIGHT HOLDER</td>\n",
       "      <td>6</td>\n",
       "      <td>2010-12-01 08:26:00</td>\n",
       "      <td>2.55</td>\n",
       "      <td>17850.0</td>\n",
       "      <td>United Kingdom</td>\n",
       "    </tr>\n",
       "    <tr>\n",
       "      <th>1</th>\n",
       "      <td>536365</td>\n",
       "      <td>71053</td>\n",
       "      <td>WHITE METAL LANTERN</td>\n",
       "      <td>6</td>\n",
       "      <td>2010-12-01 08:26:00</td>\n",
       "      <td>3.39</td>\n",
       "      <td>17850.0</td>\n",
       "      <td>United Kingdom</td>\n",
       "    </tr>\n",
       "    <tr>\n",
       "      <th>2</th>\n",
       "      <td>536365</td>\n",
       "      <td>84406B</td>\n",
       "      <td>CREAM CUPID HEARTS COAT HANGER</td>\n",
       "      <td>8</td>\n",
       "      <td>2010-12-01 08:26:00</td>\n",
       "      <td>2.75</td>\n",
       "      <td>17850.0</td>\n",
       "      <td>United Kingdom</td>\n",
       "    </tr>\n",
       "    <tr>\n",
       "      <th>3</th>\n",
       "      <td>536365</td>\n",
       "      <td>84029G</td>\n",
       "      <td>KNITTED UNION FLAG HOT WATER BOTTLE</td>\n",
       "      <td>6</td>\n",
       "      <td>2010-12-01 08:26:00</td>\n",
       "      <td>3.39</td>\n",
       "      <td>17850.0</td>\n",
       "      <td>United Kingdom</td>\n",
       "    </tr>\n",
       "    <tr>\n",
       "      <th>4</th>\n",
       "      <td>536365</td>\n",
       "      <td>84029E</td>\n",
       "      <td>RED WOOLLY HOTTIE WHITE HEART.</td>\n",
       "      <td>6</td>\n",
       "      <td>2010-12-01 08:26:00</td>\n",
       "      <td>3.39</td>\n",
       "      <td>17850.0</td>\n",
       "      <td>United Kingdom</td>\n",
       "    </tr>\n",
       "  </tbody>\n",
       "</table>\n",
       "</div>"
      ],
      "text/plain": [
       "  InvoiceNo StockCode                          Description  Quantity  \\\n",
       "0    536365    85123A   WHITE HANGING HEART T-LIGHT HOLDER         6   \n",
       "1    536365     71053                  WHITE METAL LANTERN         6   \n",
       "2    536365    84406B       CREAM CUPID HEARTS COAT HANGER         8   \n",
       "3    536365    84029G  KNITTED UNION FLAG HOT WATER BOTTLE         6   \n",
       "4    536365    84029E       RED WOOLLY HOTTIE WHITE HEART.         6   \n",
       "\n",
       "          InvoiceDate  UnitPrice  CustomerID         Country  \n",
       "0 2010-12-01 08:26:00       2.55     17850.0  United Kingdom  \n",
       "1 2010-12-01 08:26:00       3.39     17850.0  United Kingdom  \n",
       "2 2010-12-01 08:26:00       2.75     17850.0  United Kingdom  \n",
       "3 2010-12-01 08:26:00       3.39     17850.0  United Kingdom  \n",
       "4 2010-12-01 08:26:00       3.39     17850.0  United Kingdom  "
      ]
     },
     "execution_count": 4,
     "metadata": {},
     "output_type": "execute_result"
    }
   ],
   "source": [
    "# Carregando dataset\n",
    "\n",
    "retail = pd.read_excel(r\"C:\\Users\\luans\\Workspace\\projetos_pessoais\\Untitled Folder\\cohort\\Online Retail.xlsx\")\n",
    "\n",
    "# Exibe primeiras linhas do dataset\n",
    "\n",
    "retail.head()"
   ]
  },
  {
   "cell_type": "markdown",
   "id": "a82bc775",
   "metadata": {},
   "source": [
    "Da primeira à última coluna do dataset temos: cod numérico de identificação da compra, cod numérico de identificação do item, descrição do item, quantidade comprada, data de compra, preço unitário, chave numérica de identificação do consumidor e país da compra.\n",
    "\n",
    "Para acompanhar o comportamento de determinado cliente ao longo do tempo precisamos que a variavel CustomerId esteja preenchida, por isso vamos excluir linhas que não possuem essa variável \"CustomerID\" preenchida."
   ]
  },
  {
   "cell_type": "code",
   "execution_count": null,
   "id": "5103dd04",
   "metadata": {},
   "outputs": [],
   "source": [
    "retail.dropna(subset=['CustomerID'], inplace=True)"
   ]
  },
  {
   "cell_type": "markdown",
   "id": "3e4f92f1",
   "metadata": {},
   "source": [
    "Aqui verificamos um ponto preocupante no dataset,perdemos cerca de 25% das linhas no dataset.Como nesse caso não temos muita ação sobre este problema, vamos apenas dar sequência.\n",
    "\n",
    "Vamos realizar entender um pouco nossos dados antes de gerar as cohorts."
   ]
  },
  {
   "cell_type": "code",
   "execution_count": null,
   "id": "71e081c2",
   "metadata": {},
   "outputs": [],
   "source": [
    "# Estatistica descritiva\n",
    "\n",
    "retail.describe()"
   ]
  },
  {
   "cell_type": "markdown",
   "id": "7488ce18",
   "metadata": {},
   "source": [
    "Aqui a média de itens por compras é em torno de 12, enquanto a mediana indica 5. Isso mostra que temos uma distribuição bastante assimétrica.\n",
    "\n",
    "Vamos entender a visão do consumidor, como será que é a distribuição de compras feitas pelos clientes? Quantas compras cada cliente fez?\n",
    "\n",
    "Vamos contar quantos invoices cada cliente tem:"
   ]
  },
  {
   "cell_type": "code",
   "execution_count": null,
   "id": "648ccd61",
   "metadata": {},
   "outputs": [],
   "source": [
    "retail.groupby(['CustomerID'])['InvoiceNo'].nunique().sort_values()"
   ]
  },
  {
   "cell_type": "code",
   "execution_count": null,
   "id": "e665a117",
   "metadata": {},
   "outputs": [],
   "source": [
    "invoice_per_customer = retail.groupby(['CustomerID'])['InvoiceNo'].nunique()\n",
    "\n",
    "invoice_per_customer.describe()"
   ]
  },
  {
   "cell_type": "markdown",
   "id": "83197627",
   "metadata": {},
   "source": [
    "Vemos que há muitos clientes com poucas compras e poucos clientes com muitas compras, claramente assimétrica a distribuição de invoices pelos consumidores. Vamos fazer um histograma para verificar esse comportamento."
   ]
  },
  {
   "cell_type": "code",
   "execution_count": null,
   "id": "3d4bdedc",
   "metadata": {},
   "outputs": [],
   "source": [
    "_=plt.hist(invoice_per_customer, bins=50)"
   ]
  },
  {
   "cell_type": "markdown",
   "id": "cf8d0504",
   "metadata": {},
   "source": [
    "É bem sutil, mas existem consumidores com 50, 100 e até 200 compras. Mas a maioria está entre 0 e 5 compras.\n",
    "\n",
    "Com isso podemos esperar pouca retenção.Vamos seguir para a Análise de Cohort. Para isso vamos agrupar pela chave de identificação do cliente, a chave de identificação da compra e a data da compra:\n"
   ]
  },
  {
   "cell_type": "code",
   "execution_count": null,
   "id": "614fb377",
   "metadata": {},
   "outputs": [],
   "source": [
    "# Primeira limpeza: Remover duplicidades\n",
    "\n",
    "retail = retail[['CustomerID', 'InvoiceNo', 'InvoiceDate']].drop_duplicates()\n",
    "\n",
    "# Vamos organizar por meses\n",
    "\n",
    "retail['InvoiceMonth'] = retail['InvoiceDate'].dt.to_period('M')\n",
    "\n",
    "# Vamos pegar o primeiro mes de compra, ou seja, a entrada do cliente\n",
    "\n",
    "retail['Cohort'] = retail.groupby('CustomerID')['InvoiceDate'].transform('min').dt.to_period('M')\n",
    "retail.head()"
   ]
  },
  {
   "cell_type": "code",
   "execution_count": null,
   "id": "2a906fc6",
   "metadata": {},
   "outputs": [],
   "source": [
    "# Agora vamos agrupar por cohort e por mês de Invoice\n",
    "\n",
    "retail_cohort = retail.groupby(['Cohort', 'InvoiceMonth']).agg(n_customers=('CustomerID', 'nunique')).reset_index(drop=False)\n",
    "retail_cohort.head()"
   ]
  },
  {
   "cell_type": "markdown",
   "id": "04bbc5c2",
   "metadata": {},
   "source": [
    "Para facilitar a construção da matriz vamos calcular o periodo e criar uma coluna com ele, por exemplo se a cohor se iniciou em dezembro de 2010, o mês de janeiro de 2011 será o número 1, fevereiro será 2 e assim por diante"
   ]
  },
  {
   "cell_type": "code",
   "execution_count": null,
   "id": "29176cab",
   "metadata": {},
   "outputs": [],
   "source": [
    "# Calcular o periodo em meses\n",
    "retail_cohort['Period'] = (retail_cohort['InvoiceMonth'].dt.year - retail_cohort['Cohort'].dt.year) * 12 + (retail_cohort['InvoiceMonth'].dt.month - retail_cohort['Cohort'].dt.month)\n",
    "retail_cohort.head()"
   ]
  },
  {
   "cell_type": "code",
   "execution_count": null,
   "id": "256c17a0",
   "metadata": {},
   "outputs": [],
   "source": [
    "# Criar uma tabela dinamica\n",
    "\n",
    "cohort_pivot = retail_cohort.pivot_table(index='Cohort', columns='Period', values='n_customers')\n",
    "cohort_pivot"
   ]
  },
  {
   "cell_type": "code",
   "execution_count": null,
   "id": "a6da6716",
   "metadata": {},
   "outputs": [],
   "source": [
    "# Pegar os valores da primeira coluna\n",
    "\n",
    "cohort_size = cohort_pivot.iloc[:,0]\n",
    "cohort_size"
   ]
  },
  {
   "cell_type": "code",
   "execution_count": null,
   "id": "ebecfb00",
   "metadata": {},
   "outputs": [],
   "source": [
    "# Realizar a divisão dos números das outras colunas pelo valor da primeira coluna de sua linha.\n",
    "\n",
    "retention_matrix = cohort_pivot.divide(cohort_size, axis = 0)\n",
    "retention_matrix"
   ]
  },
  {
   "cell_type": "code",
   "execution_count": null,
   "id": "e966bc02",
   "metadata": {},
   "outputs": [],
   "source": [
    "# Construir mapa de calor\n",
    "_=plt.subplots(figsize=(12, 8))\n",
    "\n",
    "_= sns.heatmap(\n",
    "    data = retention_matrix,\n",
    "    mask = retention_matrix.isnull(),\n",
    "    annot = True,\n",
    "    fmt = '.0%',\n",
    "    cmap = 'RdYlGn'\n",
    ")\n",
    "\n",
    "_ = plt.title('Matriz de Retenção', size=14)"
   ]
  },
  {
   "cell_type": "code",
   "execution_count": null,
   "id": "5d782ef7",
   "metadata": {},
   "outputs": [],
   "source": [
    "De acordo com a análise realizada conseguimos chegar as seguintes conclusões:\n",
    "\n",
    "Queda de Retenção ao Longo do Tempo: É visível que a retenção dos clientes diminui consistentemente à medida que o período avança. Isso é comum em análises de cohort, pois a maioria dos clientes tende a se engajar mais no início e depois perde interesse ou não retorna.\n",
    "\n",
    "Melhor Cohort (2010-12): A cohort de dezembro de 2010 mostra uma retenção relativamente alta em comparação com as outras, especialmente nos períodos iniciais e novamente no período 11 (com 50%). Isso pode indicar que campanhas ou produtos lançados nessa época foram mais eficazes em manter o interesse dos clientes.\n",
    "\n",
    "Dificuldades de Retenção em Cohorts Posteriores: A partir de abril de 2011, a retenção parece declinar de forma mais acentuada, especialmente nos períodos intermediários (períodos 4 a 6). A cohort de novembro de 2011, por exemplo, mostra uma queda drástica, com retenção já muito baixa no segundo período (13%).\n",
    "\n",
    "Possível Efeito Sazonal: Alguns picos de retenção podem indicar efeitos sazonais ou campanhas específicas que foram mais bem-sucedidas em determinados meses, como o aumento de retenção observado no nono período da cohort de dezembro de 2010.\n",
    "\n",
    "Oportunidade de Intervenção: Intervenções podem ser necessárias para os cohorts de meados de 2011, onde a retenção é baixa em períodos iniciais. Entender por que a retenção caiu tanto nesses períodos pode ser crucial para melhorar futuras campanhas ou estratégias.\n",
    "\n",
    "Revisão de Estratégias de Engajamento: Para os cohorts onde a retenção caiu drasticamente após o primeiro ou segundo período, pode ser interessante revisar as estratégias de retenção e engajamento implementadas, para identificar o que está causando a perda rápida de clientes."
   ]
  }
 ],
 "metadata": {
  "kernelspec": {
   "display_name": "Python 3 (ipykernel)",
   "language": "python",
   "name": "python3"
  },
  "language_info": {
   "codemirror_mode": {
    "name": "ipython",
    "version": 3
   },
   "file_extension": ".py",
   "mimetype": "text/x-python",
   "name": "python",
   "nbconvert_exporter": "python",
   "pygments_lexer": "ipython3",
   "version": "3.11.5"
  }
 },
 "nbformat": 4,
 "nbformat_minor": 5
}
